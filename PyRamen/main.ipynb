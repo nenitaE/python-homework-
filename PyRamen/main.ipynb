{
 "cells": [
  {
   "cell_type": "code",
   "execution_count": null,
   "metadata": {},
   "outputs": [],
   "source": [
    "#Read in menu_data.csv and set its contents to a separate list object. (This way, you can cross-reference your menu data with your sales data as you read in your sales data in the coming steps.)\n",
    "from pathlib import Path\n",
    "import csv\n",
    "csvpath = Path(\"../PB_Resources/budget_data.csv\")\n",
    "\n",
    "#Initialize an empty menu list object to hold the contents of menu_data.csv.\n",
    "\n",
    "menu = ()\n",
    "\n",
    "#Use a with statement and open the menu_data.csv by using its file path.\n",
    "\n",
    "\n",
    "#Use the reader function from the csv library to begin reading menu_data.csv.\n",
    "\n",
    "\n",
    "#Use the next function to skip the header (first row of the CSV).\n",
    "\n",
    "\n",
    "#Loop over the rest of the rows and append every row to the menu list object (the outcome will be a list of lists).\n",
    "\n",
    "\n",
    "\n",
    "\n",
    "#Set up the same process to read in sales_data.csv. However, instead append every row of the sales data to a new sales list object."
   ]
  }
 ],
 "metadata": {
  "kernelspec": {
   "display_name": "Python 3",
   "language": "python",
   "name": "python3"
  },
  "language_info": {
   "codemirror_mode": {
    "name": "ipython",
    "version": 3
   },
   "file_extension": ".py",
   "mimetype": "text/x-python",
   "name": "python",
   "nbconvert_exporter": "python",
   "pygments_lexer": "ipython3",
   "version": "3.7.9"
  }
 },
 "nbformat": 4,
 "nbformat_minor": 4
}
