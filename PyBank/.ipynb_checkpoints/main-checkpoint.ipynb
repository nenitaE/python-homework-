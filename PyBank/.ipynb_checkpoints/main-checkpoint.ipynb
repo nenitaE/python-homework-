{
 "cells": [
  {
   "cell_type": "code",
   "execution_count": 1,
   "metadata": {},
   "outputs": [],
   "source": [
    "##Nenita Espinosa\n",
    "##Python Homework- PyBank \n",
    "\n",
    "# Task: create a Python script that analyzes the records to calculate each of the following:\n",
    "\n",
    "    # Sample output:\n",
    "    #    Financial Analysis\n",
    "    #----------------------------\n",
    "    #Total Months: 86\n",
    "    #Total: $38382578\n",
    "    #Average  Change: $-2315.12\n",
    "    #Greatest Increase in Profits: Feb-2012 ($1926159)\n",
    "    #Greatest Decrease in Profits: Sep-2013 ($-2196167)"
   ]
  },
  {
   "cell_type": "code",
   "execution_count": null,
   "metadata": {},
   "outputs": [],
   "source": []
  },
  {
   "cell_type": "code",
   "execution_count": 30,
   "metadata": {},
   "outputs": [
    {
     "name": "stdout",
     "output_type": "stream",
     "text": [
      "86\n"
     ]
    }
   ],
   "source": [
    "#The total number of months included in the dataset.\n",
    "import pandas as pd\n",
    "df = pd.read_csv('../PB_Resources/budget_data.csv')\n",
    "months = (len(df))\n",
    "print(months)"
   ]
  },
  {
   "cell_type": "code",
   "execution_count": 31,
   "metadata": {},
   "outputs": [
    {
     "name": "stdout",
     "output_type": "stream",
     "text": [
      "Total Profits/Losses: $38382578\n"
     ]
    }
   ],
   "source": [
    "#The net total amount of Profit/Losses over the entire period.\n",
    "pnl = df[\"Profit/Losses\"].tolist()\n",
    "\n",
    "total_pnl = sum(pnl)\n",
    "\n",
    "print(f\"Total Profits/Losses: ${total_pnl}\")\n"
   ]
  },
  {
   "cell_type": "code",
   "execution_count": 32,
   "metadata": {},
   "outputs": [
    {
     "name": "stdout",
     "output_type": "stream",
     "text": [
      "        Date  Profit/Losses    change\n",
      "0   Jan-2010         867884       NaN\n",
      "1   Feb-2010         984655  116771.0\n",
      "2   Mar-2010         322013 -662642.0\n",
      "3   Apr-2010         -69417 -391430.0\n",
      "4   May-2010         310503  379920.0\n",
      "..       ...            ...       ...\n",
      "81  Oct-2016         102685 -665765.0\n",
      "82  Nov-2016         795914  693229.0\n",
      "83  Dec-2016          60988 -734926.0\n",
      "84  Jan-2017         138230   77242.0\n",
      "85  Feb-2017         671099  532869.0\n",
      "\n",
      "[86 rows x 3 columns]\n"
     ]
    }
   ],
   "source": [
    "#The average of the changes in Profit/Losses over the entire period.\n",
    "df = pd.read_csv('../PB_Resources/budget_data.csv')\n",
    "df['change']=df['Profit/Losses'] -df['Profit/Losses'].shift(1)\n",
    "average_change = round(df.change.mean(),2)\n",
    "print(df)\n"
   ]
  },
  {
   "cell_type": "code",
   "execution_count": 33,
   "metadata": {},
   "outputs": [
    {
     "name": "stdout",
     "output_type": "stream",
     "text": [
      "Feb-2012 1926159.0\n",
      "Sep-2013 -2196167.0\n"
     ]
    }
   ],
   "source": [
    "#The greatest increase in profits (date and amount) over the entire period.\n",
    "#The greatest decrease in losses (date and amount) over the entire period.\n",
    "    #-----create dict that pairs date with change in profit/losses\n",
    "df['change'] = df['change'].fillna(0)\n",
    "monthly_pnl_dict = df.set_index('Date')['change'].to_dict()\n",
    "\n",
    "# Initialize minimum key-value pair\n",
    "minimum_key = \"\"\n",
    "minimum_value = 0\n",
    "\n",
    "# Initialize maximum key-value pair\n",
    "maximum_key = \"\"\n",
    "maximum_value = 0\n",
    "\n",
    "for Date, change in monthly_pnl_dict.items():\n",
    "    if minimum_value == 0:\n",
    "        minimum_value = change\n",
    "        minimum_key = Date\n",
    "    elif change < minimum_value:\n",
    "        minimum_value = change\n",
    "        minimum_key = Date\n",
    "\n",
    "    # Logic to determine max value and associated key\n",
    "    elif change > maximum_value:\n",
    "        maximum_value = change\n",
    "        maximum_key = Date\n",
    "\n",
    "print(maximum_key, maximum_value)\n",
    "print(minimum_key, minimum_value)"
   ]
  },
  {
   "cell_type": "code",
   "execution_count": 34,
   "metadata": {},
   "outputs": [
    {
     "name": "stdout",
     "output_type": "stream",
     "text": [
      "---------Financial Analysis----------\n",
      "Number of Months: 86\n",
      "Total Profits/Losses: $38382578\n",
      "Average Change in Profits/Losses: $-2315.12\n",
      "Greatest Increase Profits/Losses: $1926159.0 on Feb-2012\n",
      "Greatest Decrease Profits/Losses: $-2196167.0 on Sep-2013\n"
     ]
    }
   ],
   "source": [
    "print(\"---------Financial Analysis----------\")\n",
    "print(f\"Number of Months: {months}\")\n",
    "print(f\"Total Profits/Losses: ${total_pnl}\")\n",
    "print(f\"Average Change in Profits/Losses: ${average_change}\")\n",
    "print(f\"Greatest Increase Profits/Losses: ${maximum_value} on {maximum_key}\")\n",
    "print(f\"Greatest Decrease Profits/Losses: ${minimum_value} on {minimum_key}\")"
   ]
  },
  {
   "cell_type": "code",
   "execution_count": null,
   "metadata": {},
   "outputs": [],
   "source": []
  },
  {
   "cell_type": "code",
   "execution_count": null,
   "metadata": {},
   "outputs": [],
   "source": []
  }
 ],
 "metadata": {
  "kernelspec": {
   "display_name": "Python 3",
   "language": "python",
   "name": "python3"
  },
  "language_info": {
   "codemirror_mode": {
    "name": "ipython",
    "version": 3
   },
   "file_extension": ".py",
   "mimetype": "text/x-python",
   "name": "python",
   "nbconvert_exporter": "python",
   "pygments_lexer": "ipython3",
   "version": "3.7.9"
  }
 },
 "nbformat": 4,
 "nbformat_minor": 4
}
